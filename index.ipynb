{
 "cells": [
  {
   "cell_type": "code",
   "execution_count": null,
   "metadata": {},
   "outputs": [],
   "source": [
    "# required imports\n",
    "\n",
    "#import xlrd\n",
    "#import random\n",
    "import pandas as pd\n",
    "#import seaborn as sns\n",
    "import geopandas as gpd\n",
    "import matplotlib.pyplot as plt\n",
    "#sns.set_style('whitegrid')"
   ]
  },
  {
   "cell_type": "code",
   "execution_count": null,
   "metadata": {},
   "outputs": [],
   "source": [
    "import geopandas as gpd\n",
    "fp = \"state/IndiaStates.shp\"\n",
    "map_df = gpd.read_file(fp)\n",
    "map_df.plot()"
   ]
  },
  {
   "cell_type": "code",
   "execution_count": null,
   "metadata": {},
   "outputs": [],
   "source": [
    "map_df.st_nm"
   ]
  },
  {
   "cell_type": "code",
   "execution_count": null,
   "metadata": {},
   "outputs": [],
   "source": [
    "page = 'https://en.wikipedia.org/wiki/List_of_states_and_union_territories_of_India_by_fertility_rate'\n",
    "table = 0\n",
    "fertility_rate = pd.read_html(page)[table]"
   ]
  },
  {
   "cell_type": "code",
   "execution_count": null,
   "metadata": {},
   "outputs": [],
   "source": [
    "fertility_rate['State/UT']"
   ]
  },
  {
   "cell_type": "code",
   "execution_count": null,
   "metadata": {},
   "outputs": [],
   "source": [
    "print(fertility_rate.at[13,'State/UT'])\n",
    "fertility_rate.at[13,'State/UT'] = 'Jammu & Kashmir'\n",
    "print(fertility_rate.at[22,'State/UT'])\n",
    "fertility_rate.at[22,'State/UT'] = 'Arunanchal Pradesh'\n",
    "print(fertility_rate.at[3,'State/UT'])\n",
    "fertility_rate.at[3,'State/UT'] = 'Andaman & Nicobar Island'\n",
    "print(fertility_rate.at[27,'State/UT'])\n",
    "fertility_rate.at[27,'State/UT'] = 'Dadara & Nagar Havelli'\n",
    "print(fertility_rate.at[6,'State/UT'])\n",
    "fertility_rate.at[6,'State/UT'] = 'NCT of Delhi'\n",
    "#print(fertility_rate.at[22,'State/UT'])\n",
    "#fertility_rate.at[22,'State/UT'] = 'Arunanchal Pradesh'"
   ]
  },
  {
   "cell_type": "code",
   "execution_count": null,
   "metadata": {},
   "outputs": [],
   "source": [
    "merged = map_df.set_index('st_nm').join(fertility_rate.set_index('State/UT'))\n",
    "merged.head()"
   ]
  },
  {
   "cell_type": "code",
   "execution_count": null,
   "metadata": {},
   "outputs": [],
   "source": [
    "merged_clean = merged.fillna(0)\n",
    "india_fr=fertility_rate[fertility_rate['State/UT']=='India']['Fertility rate 2017[5]'].values[0]\n",
    "rfr=2.1"
   ]
  },
  {
   "cell_type": "code",
   "execution_count": null,
   "metadata": {},
   "outputs": [],
   "source": [
    "# create figure and axes for Matplotlib and set the title\n",
    "fig, ax = plt.subplots(1, figsize=(15, 9))\n",
    "ax.axis('off')\n",
    "ax.set_title('Fertility Rate 2017', fontdict={'fontsize': '25', 'fontweight' : '3'})\n",
    "\n",
    "source = 'Source: https://censusindia.gov.in/vital_statistics/SRS_Report_2017/ \\n 10.%20Chap_3-Estimates%20of%20Fertility_Indicators-2017.pdf'\n",
    "ax.text(85,35,'India fertility rate:'+str(india_fr))\n",
    "ax.text(85,32,'Replacement fertility rate:'+str(rfr))\n",
    "ax.text(70,3,source,bbox={'facecolor': 'yellow', 'alpha': 0.5, 'pad': 10})\n",
    "ax.set_xlabel(source)\n",
    "# plot the figure\n",
    "merged_clean.plot(column='Fertility rate 2017[5]', cmap='gist_rainbow', linewidth=0.8, ax=ax, edgecolor='0.8', legend=True)"
   ]
  },
  {
   "cell_type": "code",
   "execution_count": null,
   "metadata": {},
   "outputs": [],
   "source": [
    "page = 'https://en.wikipedia.org/wiki/List_of_Indian_states_and_union_territories_by_poverty_rate'\n",
    "table=2\n",
    "national_poverty_line = pd.read_html(page)[table]"
   ]
  },
  {
   "cell_type": "code",
   "execution_count": null,
   "metadata": {},
   "outputs": [],
   "source": [
    "national_poverty_line"
   ]
  },
  {
   "cell_type": "code",
   "execution_count": null,
   "metadata": {},
   "outputs": [],
   "source": [
    "print(national_poverty_line.at[6,'State/U.T.'])\n",
    "national_poverty_line.at[6,'State/U.T.'] = 'Jammu & Kashmir'\n",
    "print(national_poverty_line.at[25,'State/U.T.'])\n",
    "national_poverty_line.at[25,'State/U.T.'] = 'Arunanchal Pradesh'\n",
    "print(national_poverty_line.at[30,'State/U.T.'])\n",
    "national_poverty_line.at[30,'State/U.T.'] = 'Andaman & Nicobar Island'\n",
    "print(national_poverty_line.at[36,'State/U.T.'])\n",
    "national_poverty_line.at[36,'State/U.T.'] = 'Dadara & Nagar Havelli'\n",
    "print(national_poverty_line.at[34,'State/U.T.'])\n",
    "national_poverty_line.at[34,'State/U.T.'] = 'NCT of Delhi'"
   ]
  },
  {
   "cell_type": "code",
   "execution_count": null,
   "metadata": {},
   "outputs": [],
   "source": [
    "merged = map_df.set_index('st_nm').join(national_poverty_line.set_index('State/U.T.'))\n",
    "merged.head()"
   ]
  },
  {
   "cell_type": "code",
   "execution_count": null,
   "metadata": {},
   "outputs": [],
   "source": [
    "merged_clean = merged.fillna(0)\n",
    "india_poverty=national_poverty_line[national_poverty_line['State/U.T.']=='All India Average']['Poverty (% of people below poverty line)[4]'].values[0]\n",
    "target_poverty=10.95"
   ]
  },
  {
   "cell_type": "code",
   "execution_count": null,
   "metadata": {},
   "outputs": [],
   "source": [
    "# create figure and axes for Matplotlib and set the title\n",
    "fig, ax = plt.subplots(1, figsize=(15, 9))\n",
    "ax.axis('off')\n",
    "ax.set_title('Population Below National Poverty Line 2019 (Red: Data not available',fontdict={'fontsize': '25', 'fontweight' : '3'})\n",
    "\n",
    "source = 'Source: https://sdgindiaindex.niti.gov.in/#/ranking'\n",
    "ax.text(85,35,'India Poverty:'+str(india_poverty))\n",
    "ax.text(85,32,'Target Poverty:'+str(target_poverty))\n",
    "ax.text(70,3,source,bbox={'facecolor': 'yellow', 'alpha': 0.5, 'pad': 10})\n",
    "ax.set_xlabel(source)\n",
    "\n",
    "# plot the figure\n",
    "merged_clean.plot(column='Poverty (% of people below poverty line)[4]', cmap='gist_rainbow', linewidth=0.8, ax=ax, edgecolor='0.8', legend=True)"
   ]
  },
  {
   "cell_type": "code",
   "execution_count": null,
   "metadata": {},
   "outputs": [],
   "source": [
    "#map_df = map_df[['NAME_1', 'NAME_2', 'geometry']]\n",
    "mp = map_df[map_df['st_nm']=='Madhya Pradesh']\n",
    "mp.plot()"
   ]
  },
  {
   "cell_type": "code",
   "execution_count": null,
   "metadata": {},
   "outputs": [],
   "source": []
  },
  {
   "cell_type": "code",
   "execution_count": null,
   "metadata": {},
   "outputs": [],
   "source": [
    "fp2 = \"district/gadm36_IND_2.shp\"\n",
    "India = gpd.read_file(fp2)"
   ]
  },
  {
   "cell_type": "code",
   "execution_count": null,
   "metadata": {},
   "outputs": [],
   "source": [
    "MP = India[India['NAME_1']=='Madhya Pradesh']\n",
    "#print(MP.NAME_2)\n",
    "MP.plot()"
   ]
  },
  {
   "cell_type": "code",
   "execution_count": null,
   "metadata": {},
   "outputs": [],
   "source": [
    "JBP = India[India['NAME_2']=='Jabalpur']"
   ]
  },
  {
   "cell_type": "code",
   "execution_count": null,
   "metadata": {},
   "outputs": [],
   "source": [
    "JBP.plot()"
   ]
  },
  {
   "cell_type": "code",
   "execution_count": null,
   "metadata": {},
   "outputs": [],
   "source": [
    "!jupyter nbconvert --to html index.ipynb"
   ]
  },
  {
   "cell_type": "code",
   "execution_count": null,
   "metadata": {},
   "outputs": [],
   "source": []
  }
 ],
 "metadata": {
  "kernelspec": {
   "display_name": "Python 3",
   "language": "python",
   "name": "python3"
  },
  "language_info": {
   "codemirror_mode": {
    "name": "ipython",
    "version": 3
   },
   "file_extension": ".py",
   "mimetype": "text/x-python",
   "name": "python",
   "nbconvert_exporter": "python",
   "pygments_lexer": "ipython3",
   "version": "3.8.6"
  }
 },
 "nbformat": 4,
 "nbformat_minor": 4
}
